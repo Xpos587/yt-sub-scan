{
 "cells": [
  {
   "cell_type": "code",
   "execution_count": 1,
   "metadata": {},
   "outputs": [
    {
     "ename": "ModuleNotFoundError",
     "evalue": "No module named 'transformers'",
     "output_type": "error",
     "traceback": [
      "\u001b[0;31m---------------------------------------------------------------------------\u001b[0m",
      "\u001b[0;31mModuleNotFoundError\u001b[0m                       Traceback (most recent call last)",
      "Cell \u001b[0;32mIn[1], line 3\u001b[0m\n\u001b[1;32m      1\u001b[0m \u001b[38;5;28;01mfrom\u001b[39;00m \u001b[38;5;21;01mdatetime\u001b[39;00m \u001b[38;5;28;01mimport\u001b[39;00m datetime\n\u001b[0;32m----> 3\u001b[0m \u001b[38;5;28;01mfrom\u001b[39;00m \u001b[38;5;21;01mtransformers\u001b[39;00m \u001b[38;5;28;01mimport\u001b[39;00m pipeline\n\u001b[1;32m      5\u001b[0m \u001b[38;5;66;03m# Инициализация генератора текста\u001b[39;00m\n\u001b[1;32m      6\u001b[0m generator \u001b[38;5;241m=\u001b[39m pipeline(\u001b[38;5;124m'\u001b[39m\u001b[38;5;124mtext-generation\u001b[39m\u001b[38;5;124m'\u001b[39m, model\u001b[38;5;241m=\u001b[39m\u001b[38;5;124m'\u001b[39m\u001b[38;5;124mgpt2-medium\u001b[39m\u001b[38;5;124m'\u001b[39m)\n",
      "\u001b[0;31mModuleNotFoundError\u001b[0m: No module named 'transformers'"
     ]
    }
   ],
   "source": [
    "from datetime import datetime\n",
    "\n",
    "from transformers import pipeline\n",
    "\n",
    "# Инициализация генератора текста\n",
    "generator = pipeline('text-generation', model='gpt2-medium')\n",
    "\n",
    "def generate_search_query():\n",
    "    prompt = \"Интересная тема для поиска видео на YouTube:\"\n",
    "    generated_text = generator(prompt, max_length=50, num_return_sequences=1)[0]['generated_text']\n",
    "    # Извлекаем сгенерированный запрос, удаляя начальный промпт\n",
    "    query = generated_text.replace(prompt, \"\").strip()\n",
    "    return query\n",
    "\n",
    "async def get_next_search_query(conn):\n",
    "    query = generate_search_query()\n",
    "    print(f\"ИИ сгенерировал поисковый запрос: {query}\")\n",
    "\n",
    "    # Сохраняем сгенерированный запрос в базе данных\n",
    "    await conn.execute('''\n",
    "        INSERT INTO search_queries (query, last_used)\n",
    "        VALUES ($1, $2)\n",
    "        ON CONFLICT (query) DO UPDATE SET last_used = $2\n",
    "    ''', query, datetime.now())\n",
    "\n",
    "    return query\n",
    "\n",
    "generate_search_query()"
   ]
  }
 ],
 "metadata": {
  "kernelspec": {
   "display_name": "Python 3",
   "language": "python",
   "name": "python3"
  },
  "language_info": {
   "codemirror_mode": {
    "name": "ipython",
    "version": 3
   },
   "file_extension": ".py",
   "mimetype": "text/x-python",
   "name": "python",
   "nbconvert_exporter": "python",
   "pygments_lexer": "ipython3",
   "version": "3.12.5"
  }
 },
 "nbformat": 4,
 "nbformat_minor": 2
}
